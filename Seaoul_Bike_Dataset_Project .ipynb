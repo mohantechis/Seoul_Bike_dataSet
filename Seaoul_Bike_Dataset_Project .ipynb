{
  "nbformat": 4,
  "nbformat_minor": 0,
  "metadata": {
    "colab": {
      "name": "Seaoul_Bike_Dataset_Project.ipynb",
      "provenance": [],
      "collapsed_sections": []
    },
    "kernelspec": {
      "name": "python3",
      "display_name": "Python 3"
    },
    "language_info": {
      "name": "python"
    }
  },
  "cells": [
    {
      "cell_type": "markdown",
      "metadata": {
        "id": "kKWs8l4LsBhB"
      },
      "source": [
        "**Import Libraries**\n",
        "\n"
      ]
    },
    {
      "cell_type": "code",
      "metadata": {
        "id": "UYAKQ2U6yw1c"
      },
      "source": [
        "import pandas as pd\n",
        "import numpy as np\n",
        "import matplotlib.pyplot as plt\n",
        "\n",
        "import warnings\n",
        "warnings.filterwarnings('ignore')\n",
        "import seaborn as sns\n",
        "import matplotlib.pyplot as pyplot\n",
        "sns.set(style='white',color_codes=True)"
      ],
      "execution_count": 1,
      "outputs": []
    },
    {
      "cell_type": "code",
      "metadata": {
        "id": "8ei6xr4zzc9g"
      },
      "source": [
        "df=pd.read_csv(\"/content/drive/MyDrive/Dataset/SeoulBikeData.csv\")"
      ],
      "execution_count": 2,
      "outputs": []
    },
    {
      "cell_type": "code",
      "metadata": {
        "colab": {
          "base_uri": "https://localhost:8080/",
          "height": 346
        },
        "id": "jWoQB01sz8vw",
        "outputId": "a1a523f6-189d-4d30-dc21-2e5f1f2be540"
      },
      "source": [
        "df.head()\n"
      ],
      "execution_count": 3,
      "outputs": [
        {
          "output_type": "execute_result",
          "data": {
            "text/html": [
              "<div>\n",
              "<style scoped>\n",
              "    .dataframe tbody tr th:only-of-type {\n",
              "        vertical-align: middle;\n",
              "    }\n",
              "\n",
              "    .dataframe tbody tr th {\n",
              "        vertical-align: top;\n",
              "    }\n",
              "\n",
              "    .dataframe thead th {\n",
              "        text-align: right;\n",
              "    }\n",
              "</style>\n",
              "<table border=\"1\" class=\"dataframe\">\n",
              "  <thead>\n",
              "    <tr style=\"text-align: right;\">\n",
              "      <th></th>\n",
              "      <th>Date</th>\n",
              "      <th>Rented Bike Count</th>\n",
              "      <th>Hour</th>\n",
              "      <th>Temperature(C)</th>\n",
              "      <th>Humidity(%)</th>\n",
              "      <th>Wind speed (m/s)</th>\n",
              "      <th>Visibility (10m)</th>\n",
              "      <th>Dew point temperature(C)</th>\n",
              "      <th>Solar Radiation (MJ/m2)</th>\n",
              "      <th>Rainfall(mm)</th>\n",
              "      <th>Snowfall (cm)</th>\n",
              "      <th>Seasons</th>\n",
              "      <th>Holiday</th>\n",
              "      <th>Functioning Day</th>\n",
              "    </tr>\n",
              "  </thead>\n",
              "  <tbody>\n",
              "    <tr>\n",
              "      <th>0</th>\n",
              "      <td>01/12/2017</td>\n",
              "      <td>254</td>\n",
              "      <td>0</td>\n",
              "      <td>-5.2</td>\n",
              "      <td>37</td>\n",
              "      <td>2.2</td>\n",
              "      <td>2000</td>\n",
              "      <td>-17.6</td>\n",
              "      <td>0.0</td>\n",
              "      <td>0.0</td>\n",
              "      <td>0.0</td>\n",
              "      <td>Winter</td>\n",
              "      <td>No Holiday</td>\n",
              "      <td>Yes</td>\n",
              "    </tr>\n",
              "    <tr>\n",
              "      <th>1</th>\n",
              "      <td>01/12/2017</td>\n",
              "      <td>204</td>\n",
              "      <td>1</td>\n",
              "      <td>-5.5</td>\n",
              "      <td>38</td>\n",
              "      <td>0.8</td>\n",
              "      <td>2000</td>\n",
              "      <td>-17.6</td>\n",
              "      <td>0.0</td>\n",
              "      <td>0.0</td>\n",
              "      <td>0.0</td>\n",
              "      <td>Winter</td>\n",
              "      <td>No Holiday</td>\n",
              "      <td>Yes</td>\n",
              "    </tr>\n",
              "    <tr>\n",
              "      <th>2</th>\n",
              "      <td>01/12/2017</td>\n",
              "      <td>173</td>\n",
              "      <td>2</td>\n",
              "      <td>-6.0</td>\n",
              "      <td>39</td>\n",
              "      <td>1.0</td>\n",
              "      <td>2000</td>\n",
              "      <td>-17.7</td>\n",
              "      <td>0.0</td>\n",
              "      <td>0.0</td>\n",
              "      <td>0.0</td>\n",
              "      <td>Winter</td>\n",
              "      <td>No Holiday</td>\n",
              "      <td>Yes</td>\n",
              "    </tr>\n",
              "    <tr>\n",
              "      <th>3</th>\n",
              "      <td>01/12/2017</td>\n",
              "      <td>107</td>\n",
              "      <td>3</td>\n",
              "      <td>-6.2</td>\n",
              "      <td>40</td>\n",
              "      <td>0.9</td>\n",
              "      <td>2000</td>\n",
              "      <td>-17.6</td>\n",
              "      <td>0.0</td>\n",
              "      <td>0.0</td>\n",
              "      <td>0.0</td>\n",
              "      <td>Winter</td>\n",
              "      <td>No Holiday</td>\n",
              "      <td>Yes</td>\n",
              "    </tr>\n",
              "    <tr>\n",
              "      <th>4</th>\n",
              "      <td>01/12/2017</td>\n",
              "      <td>78</td>\n",
              "      <td>4</td>\n",
              "      <td>-6.0</td>\n",
              "      <td>36</td>\n",
              "      <td>2.3</td>\n",
              "      <td>2000</td>\n",
              "      <td>-18.6</td>\n",
              "      <td>0.0</td>\n",
              "      <td>0.0</td>\n",
              "      <td>0.0</td>\n",
              "      <td>Winter</td>\n",
              "      <td>No Holiday</td>\n",
              "      <td>Yes</td>\n",
              "    </tr>\n",
              "  </tbody>\n",
              "</table>\n",
              "</div>"
            ],
            "text/plain": [
              "         Date  Rented Bike Count  Hour  ...  Seasons     Holiday  Functioning Day\n",
              "0  01/12/2017                254     0  ...   Winter  No Holiday              Yes\n",
              "1  01/12/2017                204     1  ...   Winter  No Holiday              Yes\n",
              "2  01/12/2017                173     2  ...   Winter  No Holiday              Yes\n",
              "3  01/12/2017                107     3  ...   Winter  No Holiday              Yes\n",
              "4  01/12/2017                 78     4  ...   Winter  No Holiday              Yes\n",
              "\n",
              "[5 rows x 14 columns]"
            ]
          },
          "metadata": {},
          "execution_count": 3
        }
      ]
    },
    {
      "cell_type": "markdown",
      "metadata": {
        "id": "H-jiCODlsehz"
      },
      "source": [
        "**Step 1: Exploratry Data Analysis and Preprocessing**"
      ]
    },
    {
      "cell_type": "code",
      "metadata": {
        "colab": {
          "base_uri": "https://localhost:8080/"
        },
        "id": "A7RLn6iu2bkj",
        "outputId": "827191bf-0c8e-468c-ce61-1e934437b9fc"
      },
      "source": [
        "print(\" This DataFrame Contains {} lines and {} columns \".format(df.shape[0],df.shape[1]))"
      ],
      "execution_count": 4,
      "outputs": [
        {
          "output_type": "stream",
          "name": "stdout",
          "text": [
            " This DataFrame Contains 8760 lines and 14 columns \n"
          ]
        }
      ]
    },
    {
      "cell_type": "markdown",
      "metadata": {
        "id": "KnIhHuHL20hV"
      },
      "source": [
        "Features Datatypes"
      ]
    },
    {
      "cell_type": "code",
      "metadata": {
        "colab": {
          "base_uri": "https://localhost:8080/"
        },
        "id": "aHWHBu6zfukm",
        "outputId": "f30c637e-bc7a-4927-8785-4117be30502b"
      },
      "source": [
        "df.dtypes"
      ],
      "execution_count": 5,
      "outputs": [
        {
          "output_type": "execute_result",
          "data": {
            "text/plain": [
              "Date                         object\n",
              "Rented Bike Count             int64\n",
              "Hour                          int64\n",
              "Temperature(C)              float64\n",
              "Humidity(%)                   int64\n",
              "Wind speed (m/s)            float64\n",
              "Visibility (10m)              int64\n",
              "Dew point temperature(C)    float64\n",
              "Solar Radiation (MJ/m2)     float64\n",
              "Rainfall(mm)                float64\n",
              "Snowfall (cm)               float64\n",
              "Seasons                      object\n",
              "Holiday                      object\n",
              "Functioning Day              object\n",
              "dtype: object"
            ]
          },
          "metadata": {},
          "execution_count": 5
        }
      ]
    },
    {
      "cell_type": "markdown",
      "metadata": {
        "id": "iLreN4kR3HIS"
      },
      "source": [
        "**Here is statistical description of the features**"
      ]
    },
    {
      "cell_type": "code",
      "metadata": {
        "colab": {
          "base_uri": "https://localhost:8080/",
          "height": 362
        },
        "id": "1ix_4tAAaXPs",
        "outputId": "e460e9c3-dec1-47a3-8c94-3002a93b58f2"
      },
      "source": [
        "df.describe().T"
      ],
      "execution_count": 6,
      "outputs": [
        {
          "output_type": "execute_result",
          "data": {
            "text/html": [
              "<div>\n",
              "<style scoped>\n",
              "    .dataframe tbody tr th:only-of-type {\n",
              "        vertical-align: middle;\n",
              "    }\n",
              "\n",
              "    .dataframe tbody tr th {\n",
              "        vertical-align: top;\n",
              "    }\n",
              "\n",
              "    .dataframe thead th {\n",
              "        text-align: right;\n",
              "    }\n",
              "</style>\n",
              "<table border=\"1\" class=\"dataframe\">\n",
              "  <thead>\n",
              "    <tr style=\"text-align: right;\">\n",
              "      <th></th>\n",
              "      <th>count</th>\n",
              "      <th>mean</th>\n",
              "      <th>std</th>\n",
              "      <th>min</th>\n",
              "      <th>25%</th>\n",
              "      <th>50%</th>\n",
              "      <th>75%</th>\n",
              "      <th>max</th>\n",
              "    </tr>\n",
              "  </thead>\n",
              "  <tbody>\n",
              "    <tr>\n",
              "      <th>Rented Bike Count</th>\n",
              "      <td>8760.0</td>\n",
              "      <td>704.602055</td>\n",
              "      <td>644.997468</td>\n",
              "      <td>0.0</td>\n",
              "      <td>191.00</td>\n",
              "      <td>504.50</td>\n",
              "      <td>1065.25</td>\n",
              "      <td>3556.00</td>\n",
              "    </tr>\n",
              "    <tr>\n",
              "      <th>Hour</th>\n",
              "      <td>8760.0</td>\n",
              "      <td>11.500000</td>\n",
              "      <td>6.922582</td>\n",
              "      <td>0.0</td>\n",
              "      <td>5.75</td>\n",
              "      <td>11.50</td>\n",
              "      <td>17.25</td>\n",
              "      <td>23.00</td>\n",
              "    </tr>\n",
              "    <tr>\n",
              "      <th>Temperature(C)</th>\n",
              "      <td>8760.0</td>\n",
              "      <td>12.882922</td>\n",
              "      <td>11.944825</td>\n",
              "      <td>-17.8</td>\n",
              "      <td>3.50</td>\n",
              "      <td>13.70</td>\n",
              "      <td>22.50</td>\n",
              "      <td>39.40</td>\n",
              "    </tr>\n",
              "    <tr>\n",
              "      <th>Humidity(%)</th>\n",
              "      <td>8760.0</td>\n",
              "      <td>58.226256</td>\n",
              "      <td>20.362413</td>\n",
              "      <td>0.0</td>\n",
              "      <td>42.00</td>\n",
              "      <td>57.00</td>\n",
              "      <td>74.00</td>\n",
              "      <td>98.00</td>\n",
              "    </tr>\n",
              "    <tr>\n",
              "      <th>Wind speed (m/s)</th>\n",
              "      <td>8760.0</td>\n",
              "      <td>1.724909</td>\n",
              "      <td>1.036300</td>\n",
              "      <td>0.0</td>\n",
              "      <td>0.90</td>\n",
              "      <td>1.50</td>\n",
              "      <td>2.30</td>\n",
              "      <td>7.40</td>\n",
              "    </tr>\n",
              "    <tr>\n",
              "      <th>Visibility (10m)</th>\n",
              "      <td>8760.0</td>\n",
              "      <td>1436.825799</td>\n",
              "      <td>608.298712</td>\n",
              "      <td>27.0</td>\n",
              "      <td>940.00</td>\n",
              "      <td>1698.00</td>\n",
              "      <td>2000.00</td>\n",
              "      <td>2000.00</td>\n",
              "    </tr>\n",
              "    <tr>\n",
              "      <th>Dew point temperature(C)</th>\n",
              "      <td>8760.0</td>\n",
              "      <td>4.073813</td>\n",
              "      <td>13.060369</td>\n",
              "      <td>-30.6</td>\n",
              "      <td>-4.70</td>\n",
              "      <td>5.10</td>\n",
              "      <td>14.80</td>\n",
              "      <td>27.20</td>\n",
              "    </tr>\n",
              "    <tr>\n",
              "      <th>Solar Radiation (MJ/m2)</th>\n",
              "      <td>8760.0</td>\n",
              "      <td>0.569111</td>\n",
              "      <td>0.868746</td>\n",
              "      <td>0.0</td>\n",
              "      <td>0.00</td>\n",
              "      <td>0.01</td>\n",
              "      <td>0.93</td>\n",
              "      <td>3.52</td>\n",
              "    </tr>\n",
              "    <tr>\n",
              "      <th>Rainfall(mm)</th>\n",
              "      <td>8760.0</td>\n",
              "      <td>0.148687</td>\n",
              "      <td>1.128193</td>\n",
              "      <td>0.0</td>\n",
              "      <td>0.00</td>\n",
              "      <td>0.00</td>\n",
              "      <td>0.00</td>\n",
              "      <td>35.00</td>\n",
              "    </tr>\n",
              "    <tr>\n",
              "      <th>Snowfall (cm)</th>\n",
              "      <td>8760.0</td>\n",
              "      <td>0.075068</td>\n",
              "      <td>0.436746</td>\n",
              "      <td>0.0</td>\n",
              "      <td>0.00</td>\n",
              "      <td>0.00</td>\n",
              "      <td>0.00</td>\n",
              "      <td>8.80</td>\n",
              "    </tr>\n",
              "  </tbody>\n",
              "</table>\n",
              "</div>"
            ],
            "text/plain": [
              "                           count         mean  ...      75%      max\n",
              "Rented Bike Count         8760.0   704.602055  ...  1065.25  3556.00\n",
              "Hour                      8760.0    11.500000  ...    17.25    23.00\n",
              "Temperature(C)            8760.0    12.882922  ...    22.50    39.40\n",
              "Humidity(%)               8760.0    58.226256  ...    74.00    98.00\n",
              "Wind speed (m/s)          8760.0     1.724909  ...     2.30     7.40\n",
              "Visibility (10m)          8760.0  1436.825799  ...  2000.00  2000.00\n",
              "Dew point temperature(C)  8760.0     4.073813  ...    14.80    27.20\n",
              "Solar Radiation (MJ/m2)   8760.0     0.569111  ...     0.93     3.52\n",
              "Rainfall(mm)              8760.0     0.148687  ...     0.00    35.00\n",
              "Snowfall (cm)             8760.0     0.075068  ...     0.00     8.80\n",
              "\n",
              "[10 rows x 8 columns]"
            ]
          },
          "metadata": {},
          "execution_count": 6
        }
      ]
    },
    {
      "cell_type": "markdown",
      "metadata": {
        "id": "p9BXxrkIsvKU"
      },
      "source": [
        "**Verify that there are no missing Values**"
      ]
    },
    {
      "cell_type": "code",
      "metadata": {
        "colab": {
          "base_uri": "https://localhost:8080/"
        },
        "id": "hy89WoyqabL5",
        "outputId": "2e403278-dcc6-4718-cebc-dabfb85913a5"
      },
      "source": [
        "df.isna().sum()\n"
      ],
      "execution_count": 7,
      "outputs": [
        {
          "output_type": "execute_result",
          "data": {
            "text/plain": [
              "Date                        0\n",
              "Rented Bike Count           0\n",
              "Hour                        0\n",
              "Temperature(C)              0\n",
              "Humidity(%)                 0\n",
              "Wind speed (m/s)            0\n",
              "Visibility (10m)            0\n",
              "Dew point temperature(C)    0\n",
              "Solar Radiation (MJ/m2)     0\n",
              "Rainfall(mm)                0\n",
              "Snowfall (cm)               0\n",
              "Seasons                     0\n",
              "Holiday                     0\n",
              "Functioning Day             0\n",
              "dtype: int64"
            ]
          },
          "metadata": {},
          "execution_count": 7
        }
      ]
    },
    {
      "cell_type": "markdown",
      "metadata": {
        "id": "efL_W8dns2Fr"
      },
      "source": [
        "**We Convert as Datetime the series 'Date'**"
      ]
    },
    {
      "cell_type": "code",
      "metadata": {
        "colab": {
          "base_uri": "https://localhost:8080/",
          "height": 1000
        },
        "id": "Xt_uHLvXveK0",
        "outputId": "80d333b0-045e-4658-d336-a2de80e00c0d"
      },
      "source": [
        "from datetime import datetime\n",
        "df.Date=pd.to_datetime(df.Date)\n",
        "df.info()\n",
        "df['Month']=pd.DatetimeIndex(df['Date']).month\n",
        "df['Year']=pd.DatetimeIndex(df['Date']).year\n",
        "df['tday']=pd.DatetimeIndex(df['Date']).day\n",
        "df"
      ],
      "execution_count": 8,
      "outputs": [
        {
          "output_type": "stream",
          "name": "stdout",
          "text": [
            "<class 'pandas.core.frame.DataFrame'>\n",
            "RangeIndex: 8760 entries, 0 to 8759\n",
            "Data columns (total 14 columns):\n",
            " #   Column                    Non-Null Count  Dtype         \n",
            "---  ------                    --------------  -----         \n",
            " 0   Date                      8760 non-null   datetime64[ns]\n",
            " 1   Rented Bike Count         8760 non-null   int64         \n",
            " 2   Hour                      8760 non-null   int64         \n",
            " 3   Temperature(C)            8760 non-null   float64       \n",
            " 4   Humidity(%)               8760 non-null   int64         \n",
            " 5   Wind speed (m/s)          8760 non-null   float64       \n",
            " 6   Visibility (10m)          8760 non-null   int64         \n",
            " 7   Dew point temperature(C)  8760 non-null   float64       \n",
            " 8   Solar Radiation (MJ/m2)   8760 non-null   float64       \n",
            " 9   Rainfall(mm)              8760 non-null   float64       \n",
            " 10  Snowfall (cm)             8760 non-null   float64       \n",
            " 11  Seasons                   8760 non-null   object        \n",
            " 12  Holiday                   8760 non-null   object        \n",
            " 13  Functioning Day           8760 non-null   object        \n",
            "dtypes: datetime64[ns](1), float64(6), int64(4), object(3)\n",
            "memory usage: 958.2+ KB\n"
          ]
        },
        {
          "output_type": "execute_result",
          "data": {
            "text/html": [
              "<div>\n",
              "<style scoped>\n",
              "    .dataframe tbody tr th:only-of-type {\n",
              "        vertical-align: middle;\n",
              "    }\n",
              "\n",
              "    .dataframe tbody tr th {\n",
              "        vertical-align: top;\n",
              "    }\n",
              "\n",
              "    .dataframe thead th {\n",
              "        text-align: right;\n",
              "    }\n",
              "</style>\n",
              "<table border=\"1\" class=\"dataframe\">\n",
              "  <thead>\n",
              "    <tr style=\"text-align: right;\">\n",
              "      <th></th>\n",
              "      <th>Date</th>\n",
              "      <th>Rented Bike Count</th>\n",
              "      <th>Hour</th>\n",
              "      <th>Temperature(C)</th>\n",
              "      <th>Humidity(%)</th>\n",
              "      <th>Wind speed (m/s)</th>\n",
              "      <th>Visibility (10m)</th>\n",
              "      <th>Dew point temperature(C)</th>\n",
              "      <th>Solar Radiation (MJ/m2)</th>\n",
              "      <th>Rainfall(mm)</th>\n",
              "      <th>Snowfall (cm)</th>\n",
              "      <th>Seasons</th>\n",
              "      <th>Holiday</th>\n",
              "      <th>Functioning Day</th>\n",
              "      <th>Month</th>\n",
              "      <th>Year</th>\n",
              "      <th>tday</th>\n",
              "    </tr>\n",
              "  </thead>\n",
              "  <tbody>\n",
              "    <tr>\n",
              "      <th>0</th>\n",
              "      <td>2017-01-12</td>\n",
              "      <td>254</td>\n",
              "      <td>0</td>\n",
              "      <td>-5.2</td>\n",
              "      <td>37</td>\n",
              "      <td>2.2</td>\n",
              "      <td>2000</td>\n",
              "      <td>-17.6</td>\n",
              "      <td>0.0</td>\n",
              "      <td>0.0</td>\n",
              "      <td>0.0</td>\n",
              "      <td>Winter</td>\n",
              "      <td>No Holiday</td>\n",
              "      <td>Yes</td>\n",
              "      <td>1</td>\n",
              "      <td>2017</td>\n",
              "      <td>12</td>\n",
              "    </tr>\n",
              "    <tr>\n",
              "      <th>1</th>\n",
              "      <td>2017-01-12</td>\n",
              "      <td>204</td>\n",
              "      <td>1</td>\n",
              "      <td>-5.5</td>\n",
              "      <td>38</td>\n",
              "      <td>0.8</td>\n",
              "      <td>2000</td>\n",
              "      <td>-17.6</td>\n",
              "      <td>0.0</td>\n",
              "      <td>0.0</td>\n",
              "      <td>0.0</td>\n",
              "      <td>Winter</td>\n",
              "      <td>No Holiday</td>\n",
              "      <td>Yes</td>\n",
              "      <td>1</td>\n",
              "      <td>2017</td>\n",
              "      <td>12</td>\n",
              "    </tr>\n",
              "    <tr>\n",
              "      <th>2</th>\n",
              "      <td>2017-01-12</td>\n",
              "      <td>173</td>\n",
              "      <td>2</td>\n",
              "      <td>-6.0</td>\n",
              "      <td>39</td>\n",
              "      <td>1.0</td>\n",
              "      <td>2000</td>\n",
              "      <td>-17.7</td>\n",
              "      <td>0.0</td>\n",
              "      <td>0.0</td>\n",
              "      <td>0.0</td>\n",
              "      <td>Winter</td>\n",
              "      <td>No Holiday</td>\n",
              "      <td>Yes</td>\n",
              "      <td>1</td>\n",
              "      <td>2017</td>\n",
              "      <td>12</td>\n",
              "    </tr>\n",
              "    <tr>\n",
              "      <th>3</th>\n",
              "      <td>2017-01-12</td>\n",
              "      <td>107</td>\n",
              "      <td>3</td>\n",
              "      <td>-6.2</td>\n",
              "      <td>40</td>\n",
              "      <td>0.9</td>\n",
              "      <td>2000</td>\n",
              "      <td>-17.6</td>\n",
              "      <td>0.0</td>\n",
              "      <td>0.0</td>\n",
              "      <td>0.0</td>\n",
              "      <td>Winter</td>\n",
              "      <td>No Holiday</td>\n",
              "      <td>Yes</td>\n",
              "      <td>1</td>\n",
              "      <td>2017</td>\n",
              "      <td>12</td>\n",
              "    </tr>\n",
              "    <tr>\n",
              "      <th>4</th>\n",
              "      <td>2017-01-12</td>\n",
              "      <td>78</td>\n",
              "      <td>4</td>\n",
              "      <td>-6.0</td>\n",
              "      <td>36</td>\n",
              "      <td>2.3</td>\n",
              "      <td>2000</td>\n",
              "      <td>-18.6</td>\n",
              "      <td>0.0</td>\n",
              "      <td>0.0</td>\n",
              "      <td>0.0</td>\n",
              "      <td>Winter</td>\n",
              "      <td>No Holiday</td>\n",
              "      <td>Yes</td>\n",
              "      <td>1</td>\n",
              "      <td>2017</td>\n",
              "      <td>12</td>\n",
              "    </tr>\n",
              "    <tr>\n",
              "      <th>...</th>\n",
              "      <td>...</td>\n",
              "      <td>...</td>\n",
              "      <td>...</td>\n",
              "      <td>...</td>\n",
              "      <td>...</td>\n",
              "      <td>...</td>\n",
              "      <td>...</td>\n",
              "      <td>...</td>\n",
              "      <td>...</td>\n",
              "      <td>...</td>\n",
              "      <td>...</td>\n",
              "      <td>...</td>\n",
              "      <td>...</td>\n",
              "      <td>...</td>\n",
              "      <td>...</td>\n",
              "      <td>...</td>\n",
              "      <td>...</td>\n",
              "    </tr>\n",
              "    <tr>\n",
              "      <th>8755</th>\n",
              "      <td>2018-11-30</td>\n",
              "      <td>1003</td>\n",
              "      <td>19</td>\n",
              "      <td>4.2</td>\n",
              "      <td>34</td>\n",
              "      <td>2.6</td>\n",
              "      <td>1894</td>\n",
              "      <td>-10.3</td>\n",
              "      <td>0.0</td>\n",
              "      <td>0.0</td>\n",
              "      <td>0.0</td>\n",
              "      <td>Autumn</td>\n",
              "      <td>No Holiday</td>\n",
              "      <td>Yes</td>\n",
              "      <td>11</td>\n",
              "      <td>2018</td>\n",
              "      <td>30</td>\n",
              "    </tr>\n",
              "    <tr>\n",
              "      <th>8756</th>\n",
              "      <td>2018-11-30</td>\n",
              "      <td>764</td>\n",
              "      <td>20</td>\n",
              "      <td>3.4</td>\n",
              "      <td>37</td>\n",
              "      <td>2.3</td>\n",
              "      <td>2000</td>\n",
              "      <td>-9.9</td>\n",
              "      <td>0.0</td>\n",
              "      <td>0.0</td>\n",
              "      <td>0.0</td>\n",
              "      <td>Autumn</td>\n",
              "      <td>No Holiday</td>\n",
              "      <td>Yes</td>\n",
              "      <td>11</td>\n",
              "      <td>2018</td>\n",
              "      <td>30</td>\n",
              "    </tr>\n",
              "    <tr>\n",
              "      <th>8757</th>\n",
              "      <td>2018-11-30</td>\n",
              "      <td>694</td>\n",
              "      <td>21</td>\n",
              "      <td>2.6</td>\n",
              "      <td>39</td>\n",
              "      <td>0.3</td>\n",
              "      <td>1968</td>\n",
              "      <td>-9.9</td>\n",
              "      <td>0.0</td>\n",
              "      <td>0.0</td>\n",
              "      <td>0.0</td>\n",
              "      <td>Autumn</td>\n",
              "      <td>No Holiday</td>\n",
              "      <td>Yes</td>\n",
              "      <td>11</td>\n",
              "      <td>2018</td>\n",
              "      <td>30</td>\n",
              "    </tr>\n",
              "    <tr>\n",
              "      <th>8758</th>\n",
              "      <td>2018-11-30</td>\n",
              "      <td>712</td>\n",
              "      <td>22</td>\n",
              "      <td>2.1</td>\n",
              "      <td>41</td>\n",
              "      <td>1.0</td>\n",
              "      <td>1859</td>\n",
              "      <td>-9.8</td>\n",
              "      <td>0.0</td>\n",
              "      <td>0.0</td>\n",
              "      <td>0.0</td>\n",
              "      <td>Autumn</td>\n",
              "      <td>No Holiday</td>\n",
              "      <td>Yes</td>\n",
              "      <td>11</td>\n",
              "      <td>2018</td>\n",
              "      <td>30</td>\n",
              "    </tr>\n",
              "    <tr>\n",
              "      <th>8759</th>\n",
              "      <td>2018-11-30</td>\n",
              "      <td>584</td>\n",
              "      <td>23</td>\n",
              "      <td>1.9</td>\n",
              "      <td>43</td>\n",
              "      <td>1.3</td>\n",
              "      <td>1909</td>\n",
              "      <td>-9.3</td>\n",
              "      <td>0.0</td>\n",
              "      <td>0.0</td>\n",
              "      <td>0.0</td>\n",
              "      <td>Autumn</td>\n",
              "      <td>No Holiday</td>\n",
              "      <td>Yes</td>\n",
              "      <td>11</td>\n",
              "      <td>2018</td>\n",
              "      <td>30</td>\n",
              "    </tr>\n",
              "  </tbody>\n",
              "</table>\n",
              "<p>8760 rows × 17 columns</p>\n",
              "</div>"
            ],
            "text/plain": [
              "           Date  Rented Bike Count  Hour  ...  Month  Year  tday\n",
              "0    2017-01-12                254     0  ...      1  2017    12\n",
              "1    2017-01-12                204     1  ...      1  2017    12\n",
              "2    2017-01-12                173     2  ...      1  2017    12\n",
              "3    2017-01-12                107     3  ...      1  2017    12\n",
              "4    2017-01-12                 78     4  ...      1  2017    12\n",
              "...         ...                ...   ...  ...    ...   ...   ...\n",
              "8755 2018-11-30               1003    19  ...     11  2018    30\n",
              "8756 2018-11-30                764    20  ...     11  2018    30\n",
              "8757 2018-11-30                694    21  ...     11  2018    30\n",
              "8758 2018-11-30                712    22  ...     11  2018    30\n",
              "8759 2018-11-30                584    23  ...     11  2018    30\n",
              "\n",
              "[8760 rows x 17 columns]"
            ]
          },
          "metadata": {},
          "execution_count": 8
        }
      ]
    },
    {
      "cell_type": "markdown",
      "metadata": {
        "id": "aRWyDrebwPYG"
      },
      "source": [
        "Outliers"
      ]
    },
    {
      "cell_type": "code",
      "metadata": {
        "colab": {
          "base_uri": "https://localhost:8080/",
          "height": 540
        },
        "id": "557_2Qm5wRij",
        "outputId": "97ea506c-e09b-421b-fc1a-427c0cb4e082"
      },
      "source": [
        "plt.figure(figsize=(9,9))\n",
        "plt.boxplot(df['Rented Bike Count'])\n",
        "plt.show()"
      ],
      "execution_count": 9,
      "outputs": [
        {
          "output_type": "display_data",
          "data": {
            "image/png": "[encoded data removed]",
            "text/plain": [
              "<Figure size 648x648 with 1 Axes>"
            ]
          },
          "metadata": {
            "needs_background": "light"
          }
        }
      ]
    },
    {
      "cell_type": "code",
      "metadata": {
        "id": "Hrl0dBKSwgl1"
      },
      "source": [
        "df_cat=df.select_dtypes(include='object')"
      ],
      "execution_count": 10,
      "outputs": []
    },
    {
      "cell_type": "code",
      "metadata": {
        "colab": {
          "base_uri": "https://localhost:8080/",
          "height": 205
        },
        "id": "BT2jJKrjwoIg",
        "outputId": "8b1a8811-76a9-4e6a-ac55-33a14c02e2a6"
      },
      "source": [
        "df_cat.head()"
      ],
      "execution_count": 11,
      "outputs": [
        {
          "output_type": "execute_result",
          "data": {
            "text/html": [
              "<div>\n",
              "<style scoped>\n",
              "    .dataframe tbody tr th:only-of-type {\n",
              "        vertical-align: middle;\n",
              "    }\n",
              "\n",
              "    .dataframe tbody tr th {\n",
              "        vertical-align: top;\n",
              "    }\n",
              "\n",
              "    .dataframe thead th {\n",
              "        text-align: right;\n",
              "    }\n",
              "</style>\n",
              "<table border=\"1\" class=\"dataframe\">\n",
              "  <thead>\n",
              "    <tr style=\"text-align: right;\">\n",
              "      <th></th>\n",
              "      <th>Seasons</th>\n",
              "      <th>Holiday</th>\n",
              "      <th>Functioning Day</th>\n",
              "    </tr>\n",
              "  </thead>\n",
              "  <tbody>\n",
              "    <tr>\n",
              "      <th>0</th>\n",
              "      <td>Winter</td>\n",
              "      <td>No Holiday</td>\n",
              "      <td>Yes</td>\n",
              "    </tr>\n",
              "    <tr>\n",
              "      <th>1</th>\n",
              "      <td>Winter</td>\n",
              "      <td>No Holiday</td>\n",
              "      <td>Yes</td>\n",
              "    </tr>\n",
              "    <tr>\n",
              "      <th>2</th>\n",
              "      <td>Winter</td>\n",
              "      <td>No Holiday</td>\n",
              "      <td>Yes</td>\n",
              "    </tr>\n",
              "    <tr>\n",
              "      <th>3</th>\n",
              "      <td>Winter</td>\n",
              "      <td>No Holiday</td>\n",
              "      <td>Yes</td>\n",
              "    </tr>\n",
              "    <tr>\n",
              "      <th>4</th>\n",
              "      <td>Winter</td>\n",
              "      <td>No Holiday</td>\n",
              "      <td>Yes</td>\n",
              "    </tr>\n",
              "  </tbody>\n",
              "</table>\n",
              "</div>"
            ],
            "text/plain": [
              "  Seasons     Holiday Functioning Day\n",
              "0  Winter  No Holiday             Yes\n",
              "1  Winter  No Holiday             Yes\n",
              "2  Winter  No Holiday             Yes\n",
              "3  Winter  No Holiday             Yes\n",
              "4  Winter  No Holiday             Yes"
            ]
          },
          "metadata": {},
          "execution_count": 11
        }
      ]
    },
    {
      "cell_type": "markdown",
      "metadata": {
        "id": "T90JyPiqws_O"
      },
      "source": [
        "Dummies for Categorical Variables"
      ]
    },
    {
      "cell_type": "code",
      "metadata": {
        "id": "gjwCorVZwshQ"
      },
      "source": [
        "bike_data=df\n",
        "for col in df_cat:\n",
        "  dummies=pd.get_dummies(df[col],drop_first=True)\n",
        "  bike_data=pd.concat([bike_data,dummies],axis=1)"
      ],
      "execution_count": 12,
      "outputs": []
    },
    {
      "cell_type": "code",
      "metadata": {
        "colab": {
          "base_uri": "https://localhost:8080/",
          "height": 346
        },
        "id": "bP5lyJorxahZ",
        "outputId": "0be064f1-2a18-484c-a8b5-0f5a750fb993"
      },
      "source": [
        "bike_data.head()"
      ],
      "execution_count": 13,
      "outputs": [
        {
          "output_type": "execute_result",
          "data": {
            "text/html": [
              "<div>\n",
              "<style scoped>\n",
              "    .dataframe tbody tr th:only-of-type {\n",
              "        vertical-align: middle;\n",
              "    }\n",
              "\n",
              "    .dataframe tbody tr th {\n",
              "        vertical-align: top;\n",
              "    }\n",
              "\n",
              "    .dataframe thead th {\n",
              "        text-align: right;\n",
              "    }\n",
              "</style>\n",
              "<table border=\"1\" class=\"dataframe\">\n",
              "  <thead>\n",
              "    <tr style=\"text-align: right;\">\n",
              "      <th></th>\n",
              "      <th>Date</th>\n",
              "      <th>Rented Bike Count</th>\n",
              "      <th>Hour</th>\n",
              "      <th>Temperature(C)</th>\n",
              "      <th>Humidity(%)</th>\n",
              "      <th>Wind speed (m/s)</th>\n",
              "      <th>Visibility (10m)</th>\n",
              "      <th>Dew point temperature(C)</th>\n",
              "      <th>Solar Radiation (MJ/m2)</th>\n",
              "      <th>Rainfall(mm)</th>\n",
              "      <th>Snowfall (cm)</th>\n",
              "      <th>Seasons</th>\n",
              "      <th>Holiday</th>\n",
              "      <th>Functioning Day</th>\n",
              "      <th>Month</th>\n",
              "      <th>Year</th>\n",
              "      <th>tday</th>\n",
              "      <th>Spring</th>\n",
              "      <th>Summer</th>\n",
              "      <th>Winter</th>\n",
              "      <th>No Holiday</th>\n",
              "      <th>Yes</th>\n",
              "    </tr>\n",
              "  </thead>\n",
              "  <tbody>\n",
              "    <tr>\n",
              "      <th>0</th>\n",
              "      <td>2017-01-12</td>\n",
              "      <td>254</td>\n",
              "      <td>0</td>\n",
              "      <td>-5.2</td>\n",
              "      <td>37</td>\n",
              "      <td>2.2</td>\n",
              "      <td>2000</td>\n",
              "      <td>-17.6</td>\n",
              "      <td>0.0</td>\n",
              "      <td>0.0</td>\n",
              "      <td>0.0</td>\n",
              "      <td>Winter</td>\n",
              "      <td>No Holiday</td>\n",
              "      <td>Yes</td>\n",
              "      <td>1</td>\n",
              "      <td>2017</td>\n",
              "      <td>12</td>\n",
              "      <td>0</td>\n",
              "      <td>0</td>\n",
              "      <td>1</td>\n",
              "      <td>1</td>\n",
              "      <td>1</td>\n",
              "    </tr>\n",
              "    <tr>\n",
              "      <th>1</th>\n",
              "      <td>2017-01-12</td>\n",
              "      <td>204</td>\n",
              "      <td>1</td>\n",
              "      <td>-5.5</td>\n",
              "      <td>38</td>\n",
              "      <td>0.8</td>\n",
              "      <td>2000</td>\n",
              "      <td>-17.6</td>\n",
              "      <td>0.0</td>\n",
              "      <td>0.0</td>\n",
              "      <td>0.0</td>\n",
              "      <td>Winter</td>\n",
              "      <td>No Holiday</td>\n",
              "      <td>Yes</td>\n",
              "      <td>1</td>\n",
              "      <td>2017</td>\n",
              "      <td>12</td>\n",
              "      <td>0</td>\n",
              "      <td>0</td>\n",
              "      <td>1</td>\n",
              "      <td>1</td>\n",
              "      <td>1</td>\n",
              "    </tr>\n",
              "    <tr>\n",
              "      <th>2</th>\n",
              "      <td>2017-01-12</td>\n",
              "      <td>173</td>\n",
              "      <td>2</td>\n",
              "      <td>-6.0</td>\n",
              "      <td>39</td>\n",
              "      <td>1.0</td>\n",
              "      <td>2000</td>\n",
              "      <td>-17.7</td>\n",
              "      <td>0.0</td>\n",
              "      <td>0.0</td>\n",
              "      <td>0.0</td>\n",
              "      <td>Winter</td>\n",
              "      <td>No Holiday</td>\n",
              "      <td>Yes</td>\n",
              "      <td>1</td>\n",
              "      <td>2017</td>\n",
              "      <td>12</td>\n",
              "      <td>0</td>\n",
              "      <td>0</td>\n",
              "      <td>1</td>\n",
              "      <td>1</td>\n",
              "      <td>1</td>\n",
              "    </tr>\n",
              "    <tr>\n",
              "      <th>3</th>\n",
              "      <td>2017-01-12</td>\n",
              "      <td>107</td>\n",
              "      <td>3</td>\n",
              "      <td>-6.2</td>\n",
              "      <td>40</td>\n",
              "      <td>0.9</td>\n",
              "      <td>2000</td>\n",
              "      <td>-17.6</td>\n",
              "      <td>0.0</td>\n",
              "      <td>0.0</td>\n",
              "      <td>0.0</td>\n",
              "      <td>Winter</td>\n",
              "      <td>No Holiday</td>\n",
              "      <td>Yes</td>\n",
              "      <td>1</td>\n",
              "      <td>2017</td>\n",
              "      <td>12</td>\n",
              "      <td>0</td>\n",
              "      <td>0</td>\n",
              "      <td>1</td>\n",
              "      <td>1</td>\n",
              "      <td>1</td>\n",
              "    </tr>\n",
              "    <tr>\n",
              "      <th>4</th>\n",
              "      <td>2017-01-12</td>\n",
              "      <td>78</td>\n",
              "      <td>4</td>\n",
              "      <td>-6.0</td>\n",
              "      <td>36</td>\n",
              "      <td>2.3</td>\n",
              "      <td>2000</td>\n",
              "      <td>-18.6</td>\n",
              "      <td>0.0</td>\n",
              "      <td>0.0</td>\n",
              "      <td>0.0</td>\n",
              "      <td>Winter</td>\n",
              "      <td>No Holiday</td>\n",
              "      <td>Yes</td>\n",
              "      <td>1</td>\n",
              "      <td>2017</td>\n",
              "      <td>12</td>\n",
              "      <td>0</td>\n",
              "      <td>0</td>\n",
              "      <td>1</td>\n",
              "      <td>1</td>\n",
              "      <td>1</td>\n",
              "    </tr>\n",
              "  </tbody>\n",
              "</table>\n",
              "</div>"
            ],
            "text/plain": [
              "        Date  Rented Bike Count  Hour  ...  Winter  No Holiday  Yes\n",
              "0 2017-01-12                254     0  ...       1           1    1\n",
              "1 2017-01-12                204     1  ...       1           1    1\n",
              "2 2017-01-12                173     2  ...       1           1    1\n",
              "3 2017-01-12                107     3  ...       1           1    1\n",
              "4 2017-01-12                 78     4  ...       1           1    1\n",
              "\n",
              "[5 rows x 22 columns]"
            ]
          },
          "metadata": {},
          "execution_count": 13
        }
      ]
    },
    {
      "cell_type": "markdown",
      "metadata": {
        "id": "mTBPuXl3xiJy"
      },
      "source": [
        "# Outlier Analysis"
      ]
    },
    {
      "cell_type": "markdown",
      "metadata": {
        "id": "GcGL9X9Wxn1m"
      },
      "source": [
        "\n",
        "FOR THE COLUMNS HAVING OUTLIERS, WE WILL REMOVE THEM AND CONSIDER ONLY THOSE VALUES WHICH LIE BETWEEN 25TH PERCENTILE AND 75 PERCENTILE"
      ]
    },
    {
      "cell_type": "code",
      "metadata": {
        "colab": {
          "base_uri": "https://localhost:8080/",
          "height": 301
        },
        "id": "DylnShgHxhTM",
        "outputId": "8c148ad7-c877-4c50-a4d2-aa99f7d0e596"
      },
      "source": [
        "sns.boxplot(bike_data['Rented Bike Count'])\n",
        "plt.title('Distribution of Target Variable (Rented Bike Count)')\n",
        "plt.show()\n"
      ],
      "execution_count": 14,
      "outputs": [
        {
          "output_type": "display_data",
          "data": {
            "image/png": "[encoded data removed]",
            "text/plain": [
              "<Figure size 432x288 with 1 Axes>"
            ]
          },
          "metadata": {
            "needs_background": "light"
          }
        }
      ]
    },
    {
      "cell_type": "code",
      "metadata": {
        "colab": {
          "base_uri": "https://localhost:8080/"
        },
        "id": "FxrYqo-Hx3Sq",
        "outputId": "7a75e695-28b2-46ed-cbbb-69e1e7e25693"
      },
      "source": [
        "Q1 = np.percentile(bike_data['Rented Bike Count'], 25, interpolation = 'midpoint')  \n",
        "Q2 = np.percentile(bike_data['Rented Bike Count'], 50, interpolation = 'midpoint')  \n",
        "Q3 = np.percentile(bike_data['Rented Bike Count'], 75, interpolation = 'midpoint')     \n",
        "IQR = Q3 - Q1 \n",
        "low_lim = Q1 - 1.5 * IQR \n",
        "up_lim = Q3 + 1.5 * IQR\n",
        "print('low limit:', low_lim) \n",
        "print('upper limit:', up_lim)"
      ],
      "execution_count": 15,
      "outputs": [
        {
          "output_type": "stream",
          "name": "stdout",
          "text": [
            "low limit: -1120.75\n",
            "upper limit: 2377.25\n"
          ]
        }
      ]
    },
    {
      "cell_type": "code",
      "metadata": {
        "id": "C4Q_TCCEyMJ6"
      },
      "source": [
        "bike_data.rename(columns = {'Rented Bike Count':'RBC'}, inplace = True)"
      ],
      "execution_count": 16,
      "outputs": []
    },
    {
      "cell_type": "code",
      "metadata": {
        "id": "l4htqmDNyQ6N"
      },
      "source": [
        "Bikes_df2 = bike_data[bike_data.RBC< up_lim]\n",
        "Bikes_df2=Bikes_df2[Bikes_df2.RBC> low_lim]"
      ],
      "execution_count": 17,
      "outputs": []
    },
    {
      "cell_type": "code",
      "metadata": {
        "colab": {
          "base_uri": "https://localhost:8080/",
          "height": 301
        },
        "id": "c7l5HdWHydqY",
        "outputId": "f723329d-2e2c-48de-aa5b-5c9e20d5523e"
      },
      "source": [
        "sns.boxplot(Bikes_df2['RBC'])\n",
        "plt.title('Distribution of Target Variable (Rented Bike Count)')\n",
        "plt.show()"
      ],
      "execution_count": 18,
      "outputs": [
        {
          "output_type": "display_data",
          "data": {
            "image/png": "[encoded data removed]",
            "text/plain": [
              "<Figure size 432x288 with 1 Axes>"
            ]
          },
          "metadata": {
            "needs_background": "light"
          }
        }
      ]
    },
    {
      "cell_type": "code",
      "metadata": {
        "colab": {
          "base_uri": "https://localhost:8080/",
          "height": 302
        },
        "id": "b_Ynid1iyiMQ",
        "outputId": "3d7bc675-ac7f-47dc-f9fb-baa07725ba23"
      },
      "source": [
        "sns.boxplot(Bikes_df2['Temperature(C)'])"
      ],
      "execution_count": 19,
      "outputs": [
        {
          "output_type": "execute_result",
          "data": {
            "text/plain": [
              "<matplotlib.axes._subplots.AxesSubplot at 0x7f39ca2a2d90>"
            ]
          },
          "metadata": {},
          "execution_count": 19
        },
        {
          "output_type": "display_data",
          "data": {
            "image/png": "[encoded data removed]",
            "text/plain": [
              "<Figure size 432x288 with 1 Axes>"
            ]
          },
          "metadata": {
            "needs_background": "light"
          }
        }
      ]
    },
    {
      "cell_type": "code",
      "metadata": {
        "colab": {
          "base_uri": "https://localhost:8080/",
          "height": 302
        },
        "id": "HqIzcviMymGZ",
        "outputId": "6ccd47e9-ab9b-4037-935c-19e9132c268a"
      },
      "source": [
        "sns.boxplot(Bikes_df2['Wind speed (m/s)'])"
      ],
      "execution_count": 20,
      "outputs": [
        {
          "output_type": "execute_result",
          "data": {
            "text/plain": [
              "<matplotlib.axes._subplots.AxesSubplot at 0x7f39ca212910>"
            ]
          },
          "metadata": {},
          "execution_count": 20
        },
        {
          "output_type": "display_data",
          "data": {
            "image/png": "[encoded data removed]",
            "text/plain": [
              "<Figure size 432x288 with 1 Axes>"
            ]
          },
          "metadata": {
            "needs_background": "light"
          }
        }
      ]
    },
    {
      "cell_type": "code",
      "metadata": {
        "id": "q6PToe72yrZA"
      },
      "source": [
        "Bikes_df2.rename(columns = {'Wind speed (m/s)':'WS'}, inplace = True)"
      ],
      "execution_count": 21,
      "outputs": []
    },
    {
      "cell_type": "code",
      "metadata": {
        "colab": {
          "base_uri": "https://localhost:8080/"
        },
        "id": "W_mPJn3gyxt0",
        "outputId": "00275112-3cd7-4015-8db3-9e355cc4691c"
      },
      "source": [
        "Q1 = np.percentile(Bikes_df2['WS'], 25, interpolation = 'midpoint')  \n",
        "Q2 = np.percentile(Bikes_df2['WS'], 50, interpolation = 'midpoint')  \n",
        "Q3 = np.percentile(Bikes_df2['WS'], 75, interpolation = 'midpoint')     \n",
        "IQR = Q3 - Q1 \n",
        "low_lim = Q1 - 1.5 * IQR \n",
        "up_lim = Q3 + 1.5 * IQR\n",
        "print('low limit:', low_lim) \n",
        "print('upper limit:', up_lim)"
      ],
      "execution_count": 22,
      "outputs": [
        {
          "output_type": "stream",
          "name": "stdout",
          "text": [
            "low limit: -1.1999999999999997\n",
            "upper limit: 4.3999999999999995\n"
          ]
        }
      ]
    },
    {
      "cell_type": "code",
      "metadata": {
        "id": "Pc56lCnGyz6b"
      },
      "source": [
        "Bikes_df2=Bikes_df2[Bikes_df2.WS<up_lim]\n",
        "Bikes_df2=Bikes_df2[Bikes_df2.WS>low_lim]"
      ],
      "execution_count": 23,
      "outputs": []
    },
    {
      "cell_type": "code",
      "metadata": {
        "colab": {
          "base_uri": "https://localhost:8080/",
          "height": 302
        },
        "id": "3c1BHabzy25n",
        "outputId": "2c5890bf-5fab-4723-891c-a0a1aa548aaf"
      },
      "source": [
        "sns.boxplot(Bikes_df2.WS)"
      ],
      "execution_count": 24,
      "outputs": [
        {
          "output_type": "execute_result",
          "data": {
            "text/plain": [
              "<matplotlib.axes._subplots.AxesSubplot at 0x7f39ca185d10>"
            ]
          },
          "metadata": {},
          "execution_count": 24
        },
        {
          "output_type": "display_data",
          "data": {
            "image/png": "[encoded data removed]",
            "text/plain": [
              "<Figure size 432x288 with 1 Axes>"
            ]
          },
          "metadata": {
            "needs_background": "light"
          }
        }
      ]
    },
    {
      "cell_type": "code",
      "metadata": {
        "colab": {
          "base_uri": "https://localhost:8080/",
          "height": 302
        },
        "id": "FiVm0MELy945",
        "outputId": "e677d596-5a3e-4749-95b0-a7932a27b726"
      },
      "source": [
        "sns.boxplot(Bikes_df2['Dew point temperature(C)'])"
      ],
      "execution_count": 25,
      "outputs": [
        {
          "output_type": "execute_result",
          "data": {
            "text/plain": [
              "<matplotlib.axes._subplots.AxesSubplot at 0x7f39caad9450>"
            ]
          },
          "metadata": {},
          "execution_count": 25
        },
        {
          "output_type": "display_data",
          "data": {
            "image/png": "[encoded data removed]",
            "text/plain": [
              "<Figure size 432x288 with 1 Axes>"
            ]
          },
          "metadata": {
            "needs_background": "light"
          }
        }
      ]
    },
    {
      "cell_type": "code",
      "metadata": {
        "colab": {
          "base_uri": "https://localhost:8080/",
          "height": 302
        },
        "id": "L7vijm0jy_ua",
        "outputId": "2d3551b5-adc0-4408-e890-f21f34eb626c"
      },
      "source": [
        "sns.boxplot(Bikes_df2['Visibility (10m)'])"
      ],
      "execution_count": 26,
      "outputs": [
        {
          "output_type": "execute_result",
          "data": {
            "text/plain": [
              "<matplotlib.axes._subplots.AxesSubplot at 0x7f39cbae2990>"
            ]
          },
          "metadata": {},
          "execution_count": 26
        },
        {
          "output_type": "display_data",
          "data": {
            "image/png": "[encoded data removed]",
            "text/plain": [
              "<Figure size 432x288 with 1 Axes>"
            ]
          },
          "metadata": {
            "needs_background": "light"
          }
        }
      ]
    },
    {
      "cell_type": "code",
      "metadata": {
        "colab": {
          "base_uri": "https://localhost:8080/",
          "height": 302
        },
        "id": "8TMdQ7_dzCVl",
        "outputId": "7b4dd925-8697-401f-9636-85363f721280"
      },
      "source": [
        "sns.boxplot(Bikes_df2['Solar Radiation (MJ/m2)'])"
      ],
      "execution_count": 27,
      "outputs": [
        {
          "output_type": "execute_result",
          "data": {
            "text/plain": [
              "<matplotlib.axes._subplots.AxesSubplot at 0x7f39cb2a3cd0>"
            ]
          },
          "metadata": {},
          "execution_count": 27
        },
        {
          "output_type": "display_data",
          "data": {
            "image/png": "[encoded data removed]",
            "text/plain": [
              "<Figure size 432x288 with 1 Axes>"
            ]
          },
          "metadata": {
            "needs_background": "light"
          }
        }
      ]
    },
    {
      "cell_type": "code",
      "metadata": {
        "id": "1hFZGexezHOl"
      },
      "source": [
        "Bikes_df2.rename(columns = {'Solar Radiation (MJ/m2)':'SR'}, inplace = True)"
      ],
      "execution_count": 28,
      "outputs": []
    },
    {
      "cell_type": "code",
      "metadata": {
        "colab": {
          "base_uri": "https://localhost:8080/"
        },
        "id": "hIvLSlEDzKam",
        "outputId": "3e68cd3b-daec-4ea3-d375-30e0239f8328"
      },
      "source": [
        "Q1 = np.percentile(Bikes_df2['SR'], 25, interpolation = 'midpoint')  \n",
        "Q2 = np.percentile(Bikes_df2['SR'], 50, interpolation = 'midpoint')  \n",
        "Q3 = np.percentile(Bikes_df2['SR'], 75, interpolation = 'midpoint')     \n",
        "IQR = Q3 - Q1 \n",
        "low_lim = Q1 - 1.5 * IQR \n",
        "up_lim = Q3 + 1.5 * IQR\n",
        "print('low limit:', low_lim) \n",
        "print('upper limit:', up_lim)"
      ],
      "execution_count": 29,
      "outputs": [
        {
          "output_type": "stream",
          "name": "stdout",
          "text": [
            "low limit: -1.35\n",
            "upper limit: 2.25\n"
          ]
        }
      ]
    },
    {
      "cell_type": "code",
      "metadata": {
        "id": "uKuLBGLdzN4S"
      },
      "source": [
        "Bikes_df2 = Bikes_df2[Bikes_df2.SR< up_lim]\n",
        "Bikes_df2 = Bikes_df2[Bikes_df2.SR>low_lim]"
      ],
      "execution_count": 30,
      "outputs": []
    },
    {
      "cell_type": "code",
      "metadata": {
        "colab": {
          "base_uri": "https://localhost:8080/",
          "height": 302
        },
        "id": "mZrUaWQzzQGl",
        "outputId": "5d8e5a96-d0fc-459d-d687-8bb4932c5e24"
      },
      "source": [
        "sns.boxplot(Bikes_df2.SR)"
      ],
      "execution_count": 31,
      "outputs": [
        {
          "output_type": "execute_result",
          "data": {
            "text/plain": [
              "<matplotlib.axes._subplots.AxesSubplot at 0x7f39ca167650>"
            ]
          },
          "metadata": {},
          "execution_count": 31
        },
        {
          "output_type": "display_data",
          "data": {
            "image/png": "[encoded data removed]",
            "text/plain": [
              "<Figure size 432x288 with 1 Axes>"
            ]
          },
          "metadata": {
            "needs_background": "light"
          }
        }
      ]
    },
    {
      "cell_type": "code",
      "metadata": {
        "id": "S76Wc7cXzSO8",
        "colab": {
          "base_uri": "https://localhost:8080/"
        },
        "outputId": "a2ff25f5-4187-49f2-8e51-e146dd8cdee3"
      },
      "source": [
        "Bikes_df2.info()"
      ],
      "execution_count": 32,
      "outputs": [
        {
          "output_type": "stream",
          "name": "stdout",
          "text": [
            "<class 'pandas.core.frame.DataFrame'>\n",
            "Int64Index: 7752 entries, 0 to 8759\n",
            "Data columns (total 22 columns):\n",
            " #   Column                    Non-Null Count  Dtype         \n",
            "---  ------                    --------------  -----         \n",
            " 0   Date                      7752 non-null   datetime64[ns]\n",
            " 1   RBC                       7752 non-null   int64         \n",
            " 2   Hour                      7752 non-null   int64         \n",
            " 3   Temperature(C)            7752 non-null   float64       \n",
            " 4   Humidity(%)               7752 non-null   int64         \n",
            " 5   WS                        7752 non-null   float64       \n",
            " 6   Visibility (10m)          7752 non-null   int64         \n",
            " 7   Dew point temperature(C)  7752 non-null   float64       \n",
            " 8   SR                        7752 non-null   float64       \n",
            " 9   Rainfall(mm)              7752 non-null   float64       \n",
            " 10  Snowfall (cm)             7752 non-null   float64       \n",
            " 11  Seasons                   7752 non-null   object        \n",
            " 12  Holiday                   7752 non-null   object        \n",
            " 13  Functioning Day           7752 non-null   object        \n",
            " 14  Month                     7752 non-null   int64         \n",
            " 15  Year                      7752 non-null   int64         \n",
            " 16  tday                      7752 non-null   int64         \n",
            " 17  Spring                    7752 non-null   uint8         \n",
            " 18  Summer                    7752 non-null   uint8         \n",
            " 19  Winter                    7752 non-null   uint8         \n",
            " 20  No Holiday                7752 non-null   uint8         \n",
            " 21  Yes                       7752 non-null   uint8         \n",
            "dtypes: datetime64[ns](1), float64(6), int64(7), object(3), uint8(5)\n",
            "memory usage: 1.1+ MB\n"
          ]
        }
      ]
    },
    {
      "cell_type": "markdown",
      "metadata": {
        "id": "L77tI9o83tEq"
      },
      "source": [
        "**Here are the correlations between Variables**"
      ]
    },
    {
      "cell_type": "code",
      "metadata": {
        "colab": {
          "base_uri": "https://localhost:8080/"
        },
        "id": "gBHpfmzJzbpK",
        "outputId": "072d124c-1733-4e67-84ae-4c61dbe05db5"
      },
      "source": [
        "data_corr=Bikes_df2.corr()\n",
        "data_corr=data_corr['RBC'][1:]\n",
        "data_corr[abs(data_corr)>=0.0].sort_values(ascending=False)"
      ],
      "execution_count": 33,
      "outputs": [
        {
          "output_type": "execute_result",
          "data": {
            "text/plain": [
              "Temperature(C)              0.533168\n",
              "Hour                        0.400517\n",
              "Dew point temperature(C)    0.381486\n",
              "Summer                      0.300130\n",
              "SR                          0.248899\n",
              "Year                        0.210914\n",
              "Yes                         0.203973\n",
              "Visibility (10m)            0.188051\n",
              "WS                          0.106349\n",
              "Month                       0.085771\n",
              "No Holiday                  0.070541\n",
              "tday                        0.047612\n",
              "Spring                      0.013486\n",
              "Rainfall(mm)               -0.125173\n",
              "Snowfall (cm)              -0.140926\n",
              "Humidity(%)                -0.162957\n",
              "Winter                     -0.420918\n",
              "Name: RBC, dtype: float64"
            ]
          },
          "metadata": {},
          "execution_count": 33
        }
      ]
    },
    {
      "cell_type": "code",
      "metadata": {
        "id": "Fawx_oBmzf9u"
      },
      "source": [
        "bike_cat2=Bikes_df2"
      ],
      "execution_count": 34,
      "outputs": []
    },
    {
      "cell_type": "code",
      "metadata": {
        "colab": {
          "base_uri": "https://localhost:8080/",
          "height": 1000
        },
        "id": "GJurB0OZ34Gr",
        "outputId": "b3003b17-5bca-44b7-f917-15bb4545bf93"
      },
      "source": [
        "plt.figure(figsize=(20,20))\n",
        "corr=bike_cat2.corr()\n",
        "sns.heatmap(corr,annot=True,cmap='coolwarm',square=True)\n",
        "plt.show()"
      ],
      "execution_count": 35,
      "outputs": [
        {
          "output_type": "display_data",
          "data": {
            "image/png": "[encoded data removed]",
            "text/plain": [
              "<Figure size 1440x1440 with 2 Axes>"
            ]
          },
          "metadata": {
            "needs_background": "light"
          }
        }
      ]
    },
    {
      "cell_type": "code",
      "metadata": {
        "colab": {
          "base_uri": "https://localhost:8080/"
        },
        "id": "7ngqWCFjzt4c",
        "outputId": "9c9f07c2-3172-4370-e313-4b8238b1bd3d"
      },
      "source": [
        "print(bike_cat2.columns.values)"
      ],
      "execution_count": 36,
      "outputs": [
        {
          "output_type": "stream",
          "name": "stdout",
          "text": [
            "['Date' 'RBC' 'Hour' 'Temperature(C)' 'Humidity(%)' 'WS'\n",
            " 'Visibility (10m)' 'Dew point temperature(C)' 'SR' 'Rainfall(mm)'\n",
            " 'Snowfall (cm)' 'Seasons' 'Holiday' 'Functioning Day' 'Month' 'Year'\n",
            " 'tday' 'Spring' 'Summer' 'Winter' 'No Holiday' 'Yes']\n"
          ]
        }
      ]
    },
    {
      "cell_type": "code",
      "metadata": {
        "id": "096dAnvAz_Xk"
      },
      "source": [
        "Bikes_categorical2=bike_cat2.drop(['Date','Seasons','Holiday','Functioning Day','Rainfall(mm)'],axis=1)"
      ],
      "execution_count": 37,
      "outputs": []
    },
    {
      "cell_type": "code",
      "metadata": {
        "colab": {
          "base_uri": "https://localhost:8080/"
        },
        "id": "tQD9b-vT0Gp2",
        "outputId": "b177f2bd-8bde-40fb-8c6b-5032654dd1d9"
      },
      "source": [
        "from sklearn.preprocessing import StandardScaler\n",
        "scaler=StandardScaler()\n",
        "scaler.fit(Bikes_categorical2)"
      ],
      "execution_count": 38,
      "outputs": [
        {
          "output_type": "execute_result",
          "data": {
            "text/plain": [
              "StandardScaler(copy=True, with_mean=True, with_std=True)"
            ]
          },
          "metadata": {},
          "execution_count": 38
        }
      ]
    },
    {
      "cell_type": "markdown",
      "metadata": {
        "id": "-5oTUXbWctji"
      },
      "source": [
        "*** Step 3 Modeling ***"
      ]
    },
    {
      "cell_type": "code",
      "metadata": {
        "id": "1sfzAVmrczOK"
      },
      "source": [
        "from sklearn.model_selection import train_test_split\n",
        "from sklearn import preprocessing\n",
        "from sklearn.metrics import r2_score,mean_squared_error,mean_absolute_error\n",
        "from sklearn.linear_model import Ridge, LinearRegression\n",
        "from sklearn.linear_model import Lasso\n",
        "\n"
      ],
      "execution_count": 39,
      "outputs": []
    },
    {
      "cell_type": "code",
      "metadata": {
        "id": "fMtxKwRZc_H0"
      },
      "source": [
        "train, val = train_test_split(Bikes_categorical2, test_size=0.3)"
      ],
      "execution_count": 40,
      "outputs": []
    },
    {
      "cell_type": "code",
      "metadata": {
        "id": "Y1UDgpUEdepd"
      },
      "source": [
        "trainx=train.drop(['RBC'],axis=1)\n",
        "trainy=train['RBC']\n",
        "\n",
        "val_x=val.drop(['RBC'],axis=1)\n",
        "val_y=val['RBC']"
      ],
      "execution_count": 41,
      "outputs": []
    },
    {
      "cell_type": "code",
      "metadata": {
        "colab": {
          "base_uri": "https://localhost:8080/"
        },
        "id": "cE0Qvm37119d",
        "outputId": "3b31e58e-4418-4be5-ef17-aa40d58464fe"
      },
      "source": [
        "print(trainy.shape)\n",
        "print(trainx.shape)\n",
        "print(val_y.shape)\n",
        "print(val_x.shape)\n",
        "test=df[6570:]"
      ],
      "execution_count": 42,
      "outputs": [
        {
          "output_type": "stream",
          "name": "stdout",
          "text": [
            "(5426,)\n",
            "(5426, 16)\n",
            "(2326,)\n",
            "(2326, 16)\n"
          ]
        }
      ]
    },
    {
      "cell_type": "code",
      "metadata": {
        "id": "Gn_IjpJFdoBC",
        "colab": {
          "base_uri": "https://localhost:8080/"
        },
        "outputId": "8a3b93a9-288e-4f6b-c940-adce78a21170"
      },
      "source": [
        "lr=LinearRegression()\n",
        "lr.fit(trainx,trainy)"
      ],
      "execution_count": 43,
      "outputs": [
        {
          "output_type": "execute_result",
          "data": {
            "text/plain": [
              "LinearRegression(copy_X=True, fit_intercept=True, n_jobs=None, normalize=False)"
            ]
          },
          "metadata": {},
          "execution_count": 43
        }
      ]
    },
    {
      "cell_type": "code",
      "metadata": {
        "id": "rauC9Izt2I4I"
      },
      "source": [
        "df_pred=lr.predict(val_x)"
      ],
      "execution_count": 44,
      "outputs": []
    },
    {
      "cell_type": "code",
      "metadata": {
        "colab": {
          "base_uri": "https://localhost:8080/"
        },
        "id": "1FG-Z7ZT2NFr",
        "outputId": "fc1863d6-dce8-4596-83c4-bf6974aa724e"
      },
      "source": [
        "print(\"The model's metrics values are: \")\n",
        "print(\"Accuracy: \", lr.score(val_x,val_y))\n",
        "print(\"Mean Absolute Error: \",mean_absolute_error(df_pred , val_y))\n",
        "print(\"Mean Squared Error: \" ,mean_squared_error(df_pred,val_y))\n",
        "print(\"R-squared score: \", r2_score(val_y,df_pred))"
      ],
      "execution_count": 45,
      "outputs": [
        {
          "output_type": "stream",
          "name": "stdout",
          "text": [
            "The model's metrics values are: \n",
            "Accuracy:  0.5501918153542956\n",
            "Mean Absolute Error:  308.5573402882329\n",
            "Mean Squared Error:  163291.82552771768\n",
            "R-squared score:  0.5501918153542956\n"
          ]
        }
      ]
    },
    {
      "cell_type": "code",
      "metadata": {
        "id": "kJXdBxwfovcr",
        "colab": {
          "base_uri": "https://localhost:8080/"
        },
        "outputId": "fa11240d-62c2-4159-9afe-427812e6190b"
      },
      "source": [
        "from sklearn.linear_model import Ridge\n",
        "\n",
        "ridge = Ridge()\n",
        "ridge\n",
        "ridge.fit(trainx,trainy)\n",
        "rp=ridge.predict(val_x)\n",
        "ridge_score = ridge.score(val_x,val_y)\n",
        "\n",
        "ridge.coef_\n",
        "print(\"Ridge:\")\n",
        "print(\"R-square score:\", r2_score(rp,val_y))\n",
        "print(\"Training score\",ridge_score)"
      ],
      "execution_count": 46,
      "outputs": [
        {
          "output_type": "stream",
          "name": "stdout",
          "text": [
            "Ridge:\n",
            "R-square score: 0.16722404020686588\n",
            "Training score 0.550124896787827\n"
          ]
        }
      ]
    },
    {
      "cell_type": "code",
      "metadata": {
        "id": "xRXQe0jKp_ZF",
        "colab": {
          "base_uri": "https://localhost:8080/"
        },
        "outputId": "db5eb971-dd06-4336-c193-84858edee6d1"
      },
      "source": [
        "from sklearn.linear_model import Lasso \n",
        "lasso = Lasso()\n",
        "lasso\n",
        "lasso.fit(trainx,trainy)\n",
        "lp=lasso.predict(val_x)\n",
        "lasso_score = lasso.score(val_x,val_y)\n",
        "lasso.coef_\n",
        "print(\"Lasso:\")\n",
        "print(\"R-squared score:\",r2_score(lp,val_y))\n",
        "print(\"Training score\",lasso_score)\n"
      ],
      "execution_count": 47,
      "outputs": [
        {
          "output_type": "stream",
          "name": "stdout",
          "text": [
            "Lasso:\n",
            "R-squared score: 0.1505039671611238\n",
            "Training score 0.5495273756652834\n"
          ]
        }
      ]
    }
  ]
}